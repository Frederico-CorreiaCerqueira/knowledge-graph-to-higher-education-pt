{
 "cells": [
  {
   "cell_type": "markdown",
   "id": "4b58faca",
   "metadata": {},
   "source": [
    "# Knowledge Graph for Portuguese Higher Education "
   ]
  },
  {
   "cell_type": "markdown",
   "id": "75d61b53",
   "metadata": {},
   "source": [
    "Group 2\n",
    "\n",
    "* 53819 - Gonçalo Garcias\n",
    "* 60898 - João Silva\n",
    "* 64374 - Frederico Cerqueira\n",
    "* 64853 - Joana Chuço"
   ]
  },
  {
   "cell_type": "markdown",
   "id": "077735ce",
   "metadata": {},
   "source": [
    "## Problem"
   ]
  },
  {
   "cell_type": "markdown",
   "id": "c3b14214",
   "metadata": {},
   "source": [
    "Access to higher education in Portugal involves the analysis of a large volume of data, published annually by the *Direção-Geral do Ensino Superior* (DGES). This data is made available in tabular formats, such as spreadsheets, which hinder its automatic exploration, integration, and reuse. Furthermore, the lack of semantic representation limits the ability to perform complex queries, combine information from different sources, and obtain a broader understanding of the educational offerings available in the country. This limitation affects not only researchers and public entities, but also students and guardians seeking to make informed decisions.\n",
    "\n",
    "Although the DGES portal provides a search engine for courses and institutions, the navigation is not intuitive and the process of retrieving detailed information can be time-consuming. The available search options are based on fixed combinations such as course/institution, district/institution, and institution/course, with results displayed as long lists that make it difficult to compare and filter by relevant criteria. One of the main limitations is the inability to filter directly by admission grade, which makes it harder to identify courses or institutions based on a candidate's academic performance.\n"
   ]
  },
  {
   "cell_type": "markdown",
   "id": "0260eaf7",
   "metadata": {},
   "source": [
    "## Knowledge Graph"
   ]
  },
  {
   "cell_type": "markdown",
   "id": "ecfeb67d",
   "metadata": {},
   "source": [
    "![My Diagram](docs/Graph_image.jpg)\n",
    "\n",
    "Structure of the RDF Knowledge Graph for Higher Education Institutions in Portugal"
   ]
  },
  {
   "cell_type": "code",
   "execution_count": 14,
   "id": "9208e9d9",
   "metadata": {},
   "outputs": [],
   "source": [
    "import pandas as pd\n",
    "import os\n",
    "from rdflib import Graph, Namespace, Literal, RDF, XSD"
   ]
  },
  {
   "cell_type": "markdown",
   "id": "aa48c3c8",
   "metadata": {},
   "source": [
    "### Creating of the kg"
   ]
  },
  {
   "cell_type": "markdown",
   "id": "2b82183f",
   "metadata": {},
   "source": [
    "A custom namespace, EDU (http://example.org/education#), was created to model concepts such as Institution, Course, Degree, ScientificArea, District, and County, along with their properties and objects."
   ]
  },
  {
   "cell_type": "code",
   "execution_count": 15,
   "id": "0121d208",
   "metadata": {},
   "outputs": [],
   "source": [
    "EDU = Namespace(\"http://example.org/education#\")"
   ]
  },
  {
   "cell_type": "markdown",
   "id": "c2515585",
   "metadata": {},
   "source": [
    "To ensure the reliable and semantically consistent construction of the knowledge graph, several utility functions were implemented. These are essential for data normalization, literal creation, and graph manipulation."
   ]
  },
  {
   "cell_type": "markdown",
   "id": "59e61096",
   "metadata": {},
   "source": [
    "The `get_value` function ensures that each value retrieved from the spreadsheet is treated as a clean, stripped string, preventing inconsistencies due to extra spaces or mixed data types. "
   ]
  },
  {
   "cell_type": "code",
   "execution_count": 16,
   "id": "7e0c86e8",
   "metadata": {},
   "outputs": [],
   "source": [
    "def get_value(row, column):\n",
    "    \"\"\"\n",
    "    Get the value from a row, ensuring it's a string and stripped of whitespace.\n",
    "    \"\"\"\n",
    "    return str(row[column]).strip()"
   ]
  },
  {
   "cell_type": "markdown",
   "id": "c94479e1",
   "metadata": {},
   "source": [
    "The `add_to_graph` function wraps the addition of RDF triples to the graph, promoting clarity and reusability throughout the code."
   ]
  },
  {
   "cell_type": "code",
   "execution_count": 17,
   "id": "e49591d3",
   "metadata": {},
   "outputs": [],
   "source": [
    "def add_to_graph(graph, subject, predicate, obj):\n",
    "    \"\"\"\n",
    "    Add a triple to the graph.\n",
    "    \"\"\"\n",
    "    graph.add((subject, predicate, obj))"
   ]
  },
  {
   "cell_type": "markdown",
   "id": "ec05bd22",
   "metadata": {},
   "source": [
    "Literals in RDF require explicit datatypes to enable accurate querying and reasoning. To support this, the functions `create_literal`, `create_str_literal`, `create_int_literal`, and `create_float_literal` convert *Python* values into RDF literals using XML Schema datatypes. String values are encoded as `xsd:string`, integers as `xsd:integer`, and floating-point numbers as `xsd:float`. Special care is taken to handle placeholders such as \"---\" in the original data by converting them to 0.0, ensuring that numerical values remain valid and comparable in queries."
   ]
  },
  {
   "cell_type": "code",
   "execution_count": 18,
   "id": "56adc429",
   "metadata": {},
   "outputs": [],
   "source": [
    "def create_literal(value, datatype):\n",
    "    \"\"\"\n",
    "    Create a literal with the specified datatype.\n",
    "    \"\"\"\n",
    "    return Literal(value, datatype=datatype)\n",
    "\n",
    "\n",
    "def create_str_literal(value):\n",
    "    \"\"\"\n",
    "    Create a string literal. \n",
    "    \"\"\"\n",
    "    return create_literal(value, datatype=XSD.string)\n",
    "\n",
    "\n",
    "def create_float_literal(value):\n",
    "    \"\"\"\n",
    "    Create a float literal. If the value is \"---\", it is converted to 0.0.\n",
    "    \"\"\"\n",
    "    if value == \"---\":\n",
    "        value = 0.0\n",
    "    else:\n",
    "        value = float(value)\n",
    "    return create_literal(value, datatype=XSD.float)\n",
    "\n",
    "\n",
    "def create_int_literal(value):\n",
    "    \"\"\"\n",
    "    Create an integer literal. \n",
    "    \"\"\"\n",
    "    return create_literal(value, datatype=XSD.integer)"
   ]
  },
  {
   "cell_type": "markdown",
   "id": "123b2862",
   "metadata": {},
   "source": [
    "Name normalization is handled by the `normalize_name` function, which replaces spaces with underscores and removes characters such as commas, periods, colons, and semicolons. This step guarantees that URIs generated for institutions and courses are syntactically valid and consistent, allowing for stable linking between entities in the RDF graph."
   ]
  },
  {
   "cell_type": "code",
   "execution_count": 19,
   "id": "2271e483",
   "metadata": {},
   "outputs": [],
   "source": [
    "def normalize_name(value):\n",
    "    \"\"\"\n",
    "    Normalize a name by replacing spaces with underscores and removing special characters.\n",
    "    \"\"\"\n",
    "    return value.replace(\" \", \"_\").replace(\",\", \"\").replace(\".\", \"\").replace(\"º\", \"\").replace(\":\", \"\").replace(\";\", \"\")"
   ]
  },
  {
   "cell_type": "markdown",
   "id": "e174b652",
   "metadata": {},
   "source": [
    "To construct a meaningful and queryable representation of the Portuguese higher education system, a series of functions were defined to map key entities and their relationships into RDF triples. These entities include institutions, courses, degrees, scientific areas, and their respective geolocations. Each function plays a distinct role in enriching the semantic structure of the knowledge graph."
   ]
  },
  {
   "cell_type": "markdown",
   "id": "ad95b3ab",
   "metadata": {},
   "source": [
    "The `create_institution` function adds institutions to the graph by assigning them a URI based on a normalized version of their name. It associates each institution with its name and unique institutional code, ensuring that each one is distinct and queryable. Similarly, the `create_type_course` function defines courses with their name and code, while the create_type function allows the instantiation of unique course offerings by combining the institution and course names into a single URI. This disambiguation is crucial, especially in cases where the same course name may exist across different institutions."
   ]
  },
  {
   "cell_type": "code",
   "execution_count": 20,
   "id": "22848ee8",
   "metadata": {},
   "outputs": [],
   "source": [
    "def create_institution(g, name, code):\n",
    "    \"\"\"\n",
    "    Create an institution in the graph with the given name and code.\n",
    "    \"\"\"\n",
    "    inst = EDU[normalize_name(name)]\n",
    "    literal = create_str_literal(name)\n",
    "    add_to_graph(g, inst, RDF.type, EDU.Institution)\n",
    "    add_to_graph(g, inst, EDU.institutionName, literal)\n",
    "    add_to_graph(g, inst, EDU.institutionCode, create_int_literal(code))\n",
    "    return inst\n",
    "\n",
    "\n",
    "def create_type_course(g, name, code):\n",
    "    \"\"\"\n",
    "    Create a course in the graph with the given name and code.\n",
    "    \"\"\" \n",
    "    n = normalize_name(name)\n",
    "    course = EDU[n]\n",
    "    literal = create_str_literal(name)\n",
    "    add_to_graph(g, course, RDF.type, EDU.Course)\n",
    "    add_to_graph(g, course, EDU.courseName, literal)\n",
    "    add_to_graph(g, course, EDU.courseCode, create_str_literal(code))\n",
    "    return course\n",
    "\n",
    "\n",
    "def create_type(g, course_type, inst_name, course_name):\n",
    "    \"\"\"\n",
    "    Create a course type in the graph with the given name and code.\n",
    "    \"\"\"\n",
    "    course = EDU[normalize_name(inst_name) + \"_\" + normalize_name(course_name)]\n",
    "    add_to_graph(g, course, RDF.type, course_type)\n",
    "    return course"
   ]
  },
  {
   "cell_type": "markdown",
   "id": "b7a8ee37",
   "metadata": {},
   "source": [
    "To establish relationships between institutions and their offered courses, the `inst_has_course` function links them directly. The `create_degree` function introduces academic degrees, and the `course_degree` function connects these degrees to the courses that award them. Scientific classification is handled through the `create_scientific_area` function, which generates entities for scientific areas based on both name and numeric code. Each course is then associated with a relevant scientific area via the `course_scientific_area` function."
   ]
  },
  {
   "cell_type": "code",
   "execution_count": 21,
   "id": "159882cf",
   "metadata": {},
   "outputs": [],
   "source": [
    "def inst_has_course(g, inst, course):\n",
    "    \"\"\"\n",
    "    Associate an institution with a course in the graph.\n",
    "    \"\"\"\n",
    "    add_to_graph(g, inst, EDU.hasCourse, course)\n",
    "\n",
    "\n",
    "def create_degree(g, name):\n",
    "    \"\"\"\n",
    "    Create a degree in the graph with the given name.\n",
    "    \"\"\"\n",
    "    degree = EDU[normalize_name(name)]\n",
    "    add_to_graph(g, degree, RDF.type, EDU.Degree)\n",
    "    add_to_graph(g, degree, EDU.degreeName, create_str_literal(name))\n",
    "    return degree\n",
    "\n",
    "\n",
    "def course_degree(g, course, degree):\n",
    "    \"\"\"\n",
    "    Associate a course with a degree in the graph.\n",
    "    \"\"\"\n",
    "    add_to_graph(g, course, EDU.awardsDegree, degree)\n",
    "\n",
    "\n",
    "def create_scientific_area(g, code, name):\n",
    "    \"\"\"\n",
    "    Create a scientific area in the graph with the given code and name.\n",
    "    \"\"\"\n",
    "    scientific_area = EDU[normalize_name(name)]\n",
    "    add_to_graph(g, scientific_area, RDF.type, EDU.ScientificArea)\n",
    "    add_to_graph(g, scientific_area, EDU.scientificAreaCode, create_int_literal(int(float(code))))\n",
    "    add_to_graph(g, scientific_area, EDU.scientificAreaName, create_str_literal(name))\n",
    "    return scientific_area\n",
    "\n",
    "\n",
    "def course_scientific_area(g, course, scientific_area):\n",
    "    \"\"\"\n",
    "    Associate a course with a scientific area in the graph.\n",
    "    \"\"\"\n",
    "    add_to_graph(g, course, EDU.hasScientificArea, scientific_area)"
   ]
  },
  {
   "cell_type": "markdown",
   "id": "0ea91c74",
   "metadata": {},
   "source": [
    "The code also models key attributes that influence course selection. The `last_admitted_grade` function captures the minimum admission grade for each course, accommodating missing data by assigning a default of 0.0. Similarly, the `course_available_slots` function records the number of available slots, also defaulting to 0 when data is incomplete. This approach maintains data integrity and supports filtering in semantic queries."
   ]
  },
  {
   "cell_type": "code",
   "execution_count": 22,
   "id": "74746978",
   "metadata": {},
   "outputs": [],
   "source": [
    "def last_admitted_grade(g, course, grade):\n",
    "    \"\"\"\n",
    "    Set the last admitted grade for a course in the graph.\n",
    "    If the value is \"---\", it is converted to 0.0.\n",
    "    \"\"\"\n",
    "    if grade == \"---\":\n",
    "        grade = 0\n",
    "    grade = create_float_literal(float(grade))\n",
    "    add_to_graph(g, course, EDU.lastAdmittedGrade, grade)\n",
    "\n",
    "\n",
    "def course_available_slots(g, course, slots):\n",
    "    \"\"\"\n",
    "    Set the available slots for a course in the graph. \n",
    "    If the value is \"---\", it is converted to 0.\n",
    "    \"\"\"\n",
    "    if slots == \"---\":\n",
    "        slots = 0\n",
    "    else:\n",
    "        slots = int(float(slots))\n",
    "    add_to_graph(g, course, EDU.availableSlots, create_int_literal(slots))"
   ]
  },
  {
   "cell_type": "markdown",
   "id": "63b3da21",
   "metadata": {},
   "source": [
    "Geographical context is added through `create_district` and `create_county`, which define regional entities and their hierarchical relationship. The `add_location_to_institution` function integrates these spatial details into each institution's profile, including address and postal code. This geolocation data enables spatial querying and supports use cases such as regional policy planning or student access analysis."
   ]
  },
  {
   "cell_type": "code",
   "execution_count": 23,
   "id": "78802c08",
   "metadata": {},
   "outputs": [],
   "source": [
    "def add_location_to_institution(g, inst, address, postal_code, district, county):\n",
    "    \"\"\"\n",
    "    Add location information to an institution in the graph.\n",
    "    \"\"\"\n",
    "    if address:\n",
    "        add_to_graph(g, inst, EDU.address, create_str_literal(address))\n",
    "    if postal_code:\n",
    "        add_to_graph(g, inst, EDU.postalCode, create_str_literal(postal_code))\n",
    "    if district:\n",
    "        add_to_graph(g, inst, EDU.locatedInDistrict, district)\n",
    "    if county:\n",
    "        add_to_graph(g, inst, EDU.locatedInCounty, county)\n",
    "\n",
    "\n",
    "def create_district(g, district_name):\n",
    "    \"\"\"\n",
    "    Create a district in the graph with the given name.\n",
    "    \"\"\"\n",
    "    district = EDU[normalize_name(district_name)]\n",
    "    add_to_graph(g, district, RDF.type, EDU.District)\n",
    "    add_to_graph(g, district, EDU.districtName, create_str_literal(district_name))\n",
    "    return district\n",
    "\n",
    "\n",
    "def create_county(g, county_name, district):\n",
    "    \"\"\"\n",
    "    Create a county in the graph with the given name and associate it with a district.\n",
    "    \"\"\"\n",
    "    county = EDU[normalize_name(county_name)]\n",
    "    add_to_graph(g, county, RDF.type, EDU.County)\n",
    "    add_to_graph(g, county, EDU.countyName, create_str_literal(county_name))\n",
    "    add_to_graph(g, county, EDU.countyPartOfDistrict, district)\n",
    "    return county\n"
   ]
  },
  {
   "cell_type": "markdown",
   "id": "422aa41f",
   "metadata": {},
   "source": [
    "The central logic of graph population is encapsulated in the create_graph_from_excel function. This routine is responsible for orchestrating the complete transformation of structured tabular data into an RDF-based semantic model. It integrates information from two distinct Excel sources: one containing course and institutional data and another containing geolocation details.\n",
    "\n",
    "Upon loading both datasets, the function initializes an RDF graph and binds it to a custom namespace for educational entities. A dictionary is then created to map institutional names to their corresponding location records, ensuring efficient lookup during the graph construction process.\n",
    "\n",
    "The function iterates through each record in the main dataset, filtering out entries with missing institution or course names. For each valid entry, an institution node is created and enriched with a unique code. A course type is also instantiated, followed by the creation of a course entity that combines both the institution and course identifiers to ensure uniqueness.\n",
    "\n",
    "The course is then linked to its institution, and additional attributes are incorporated as available. These include the number of available slots, the minimum admission grade from the previous year, the academic degree awarded, and the scientific area of study. Each attribute is modeled as a literal or linked entity, supporting both data-level and structural queries.\n",
    "\n",
    "Geolocation data is integrated whenever available by cross-referencing the institution code. Districts and counties are instantiated or reused as necessary, and address information is attached directly to the institution entity. This enhances the spatial reasoning capabilities of the graph, enabling location-aware analyses.\n",
    "\n",
    "Finally, the graph is serialized into Turtle format and saved to disk, either in the specified directory or in the default location. This serialized output represents a complete, machine-readable representation of the Portuguese higher education system, ready for semantic querying and reasoning."
   ]
  },
  {
   "cell_type": "code",
   "execution_count": 55,
   "id": "fa952f47",
   "metadata": {},
   "outputs": [
    {
     "name": "stderr",
     "output_type": "stream",
     "text": [
      "C:\\Users\\joana\\AppData\\Local\\Temp\\ipykernel_20368\\358696417.py:5: FutureWarning: Series.__getitem__ treating keys as positions is deprecated. In a future version, integer keys will always be treated as labels (consistent with DataFrame behavior). To access a value by position, use `ser.iloc[pos]`\n",
      "  return str(row[column]).strip()\n"
     ]
    },
    {
     "name": "stdout",
     "output_type": "stream",
     "text": [
      "Successfully generated RDF with locations!\n"
     ]
    }
   ],
   "source": [
    "def create_graph_from_excel(output_dir = None):\n",
    "    \"\"\"\n",
    "    Create an RDF graph from the Excel file and save it as a Turtle file.\n",
    "    \"\"\"\n",
    "    excel_file = \"./docs/lista_de_vagas_para_1_fase.xlsx\"\n",
    "    location_file = \"./docs/Localizacao.xlsx\"\n",
    "\n",
    "    df = pd.read_excel(excel_file, sheet_name=0, header=3)\n",
    "    location_df = pd.read_excel(location_file)\n",
    "\n",
    "    g = Graph()\n",
    "    g.bind(\"edu\", EDU)\n",
    "\n",
    "    location_dict = {\n",
    "        row[\"Código do Estabelecimento\"]: row\n",
    "        for _, row in location_df.iterrows()\n",
    "    }\n",
    "\n",
    "    for _, row in df.iterrows():\n",
    "        if pd.isna(row[\"Nome da Instituição\"]) or pd.isna(row[\"Nome do Curso\"]):\n",
    "            continue\n",
    "\n",
    "        inst_name = get_value(row, \"Nome da Instituição\")\n",
    "        course_name = get_value(row, \"Nome do Curso\")\n",
    "        inst_code =int(float( get_value(row, \"Código Instit.\")))\n",
    "\n",
    "        inst = create_institution(g, inst_name, inst_code)\n",
    "        course_type = create_type_course(g, course_name, get_value(row, \"Código Curso\"))\n",
    "\n",
    "        course = create_type(g, course_type, inst_name, course_name)\n",
    "\n",
    "        inst_has_course(g, inst, course)\n",
    "\n",
    "        available_slots = get_value(row, \"Vagas 2024\")\n",
    "        if pd.notna(available_slots):\n",
    "            course_available_slots(g, course, available_slots)\n",
    "\n",
    "        degree = create_degree(g, get_value(row, \"Grau\"))\n",
    "        course_degree(g, course_type, degree)\n",
    "        \n",
    "        scientific_area = create_scientific_area(g, get_value(row, \"Área Científica\"), get_value(row, 8))\n",
    "        course_scientific_area(g, course_type, scientific_area)\n",
    "\n",
    "        nota = get_value(row, \"Nota último colocado 1ª Fase 2023 (cont. geral)\")\n",
    "        if pd.notna(nota):\n",
    "            last_admitted_grade(g, course, nota)\n",
    "\n",
    "\n",
    "        if inst_code in location_dict:\n",
    "            location_data = location_dict[inst_code]\n",
    "            district = create_district(g, location_data.get(\"Distrito\"))\n",
    "            county = create_county(g, location_data.get(\"Concelho\"), district)\n",
    "            add_location_to_institution(\n",
    "                g,\n",
    "                inst,\n",
    "                location_data.get(\"Morada\"),\n",
    "                location_data.get(\"Código Postal\"),\n",
    "                district,\n",
    "                county\n",
    "            )\n",
    "\n",
    "    file_name = \"education.ttl\"\n",
    "    if output_dir:\n",
    "        if not os.path.exists(output_dir):\n",
    "            os.makedirs(output_dir)\n",
    "        file_name = os.path.join(output_dir, file_name)\n",
    "    g.serialize(file_name, format=\"turtle\")\n",
    "\n",
    "create_graph_from_excel(\"ontology\")\n",
    "print(\"Successfully generated RDF with locations!\")\n"
   ]
  },
  {
   "cell_type": "markdown",
   "id": "3376fc37",
   "metadata": {},
   "source": [
    "### Queries"
   ]
  },
  {
   "cell_type": "markdown",
   "id": "f066e4be",
   "metadata": {},
   "source": [
    "To enable semantic exploration of the data, the RDF graph previously serialized into Turtle format is reloaded into memory. This is achieved by instantiating a new RDF Graph object and parsing the Turtle file generated during the data transformation phase."
   ]
  },
  {
   "cell_type": "code",
   "execution_count": 61,
   "id": "f7f0bf95",
   "metadata": {},
   "outputs": [
    {
     "data": {
      "text/plain": [
       "<Graph identifier=Nd7631b408b354d9a919ee0221d9b418b (<class 'rdflib.graph.Graph'>)>"
      ]
     },
     "execution_count": 61,
     "metadata": {},
     "output_type": "execute_result"
    }
   ],
   "source": [
    "file = \"ontology/education.ttl\"\n",
    "g = Graph()\n",
    "g.parse(file, format=\"ttl\")\n"
   ]
  },
  {
   "cell_type": "markdown",
   "id": "9dd59dd8",
   "metadata": {},
   "source": [
    "To retrieve targeted insights from the educational knowledge graph, SPARQL is used as the query language. In this example, a query is constructed to identify institutions that offer a course whose name includes the phrase Engenharia Informática, regardless of case sensitivity. The graph is queried for each matching institution's code, name, course name, and the grade of the last admitted student.\n",
    "\n",
    "The query traverses relationships from institutions to their offered courses and associated metadata, leveraging the RDF and custom edu vocabulary. Although additional filtering options are present, such as restricting results to a specific district or grade threshold.\n",
    "\n",
    "Once executed, the query returns a distinct list of institutions and their respective course details. "
   ]
  },
  {
   "cell_type": "code",
   "execution_count": 66,
   "id": "0e2415c3",
   "metadata": {},
   "outputs": [
    {
     "name": "stdout",
     "output_type": "stream",
     "text": [
      "List of universities:\n",
      "7105 | Escola Superior Náutica Infante D. Henrique | Engenharia Informática e de Computadores | 133.9\n",
      "6800 | ISCTE - Instituto Universitário de Lisboa | Engenharia Informática (regime pós-laboral) | 145.0\n",
      "3092 | Instituto Politécnico da Guarda - Escola Superior de Tecnologia e Gestão | Engenharia Informática | 123.0\n",
      "3023 | Instituto Politécnico de Beja - Escola Superior de Tecnologia e de Gestão | Engenharia Informática | 124.9\n",
      "3043 | Instituto Politécnico de Bragança - Escola Superior de Tecnologia e de Gestão de Bragança | Engenharia Informática | 115.5\n",
      "3053 | Instituto Politécnico de Castelo Branco - Escola Superior de Tecnologia de Castelo Branco | Engenharia Informática | 108.0\n",
      "3065 | Instituto Politécnico de Coimbra - Escola Superior de Tecnologia e Gestão de Oliveira do Hospital | Engenharia Informática | 112.7\n",
      "3064 | Instituto Politécnico de Coimbra - Instituto Superior de Engenharia de Coimbra | Engenharia Informática | 145.8\n",
      "3064 | Instituto Politécnico de Coimbra - Instituto Superior de Engenharia de Coimbra | Engenharia Informática (Curso Europeu) | 142.7\n",
      "3064 | Instituto Politécnico de Coimbra - Instituto Superior de Engenharia de Coimbra | Engenharia Informática (regime pós-laboral) | 137.7\n",
      "3102 | Instituto Politécnico de Leiria - Escola Superior de Tecnologia e Gestão | Engenharia Informática | 142.5\n",
      "3102 | Instituto Politécnico de Leiria - Escola Superior de Tecnologia e Gestão | Engenharia Informática (regime pós-laboral) | 121.5\n",
      "3118 | Instituto Politécnico de Lisboa - Instituto Superior de Engenharia de Lisboa | Engenharia Informática, Redes e Telecomunicações | 139.2\n",
      "3118 | Instituto Politécnico de Lisboa - Instituto Superior de Engenharia de Lisboa | Engenharia Informática e Multimédia | 135.5\n",
      "3118 | Instituto Politécnico de Lisboa - Instituto Superior de Engenharia de Lisboa | Engenharia Informática e de Computadores | 142.5\n",
      "3124 | Instituto Politécnico de Portalegre - Escola Superior de Tecnologia, Gestão e Design | Engenharia Informática | 0.0\n",
      "3152 | Instituto Politécnico de Setúbal - Escola Superior de Tecnologia de Setúbal | Engenharia Informática | 139.2\n",
      "3242 | Instituto Politécnico de Tomar - Escola Superior de Tecnologia de Tomar | Engenharia Informática | 109.1\n",
      "3163 | Instituto Politécnico de Viana do Castelo - Escola Superior de Tecnologia e Gestão | Engenharia Informática | 129.8\n",
      "3186 | Instituto Politécnico de Viseu - Escola Superior de Tecnologia e Gestão de Lamego | Engenharia Informática e Telecomunicações | 108.4\n",
      "3182 | Instituto Politécnico de Viseu - Escola Superior de Tecnologia e Gestão de Viseu | Engenharia Informática | 134.1\n",
      "3032 | Instituto Politécnico do Cávado e do Ave - Escola Superior de Tecnologia | Engenharia Informática Médica | 128.2\n",
      "400 | Universidade da Beira Interior | Engenharia Informática | 132.2\n",
      "1307 | Universidade da Madeira - Faculdade de Ciências Exatas e da Engenharia | Engenharia Informática | 120.2\n",
      "1203 | Universidade de Trás-os-Montes e Alto Douro - Escola de Ciências e Tecnologia | Engenharia Informática | 129.7\n",
      "602 | Universidade de Évora - Escola de Ciências e Tecnologia | Engenharia Informática | 131.7\n",
      "203 | Universidade do Algarve - Faculdade de Ciências e Tecnologia | Engenharia Informática | 126.5\n"
     ]
    }
   ],
   "source": [
    "query = \"\"\"\n",
    "  PREFIX rdf: <http://www.w3.org/1999/02/22-rdf-syntax-ns#>\n",
    "  PREFIX xsd: <http://www.w3.org/2001/XMLSchema#>\n",
    "  PREFIX edu: <http://example.org/education#>\n",
    "\n",
    "  SELECT DISTINCT ?code ?name ?grade ?courseName\n",
    "  WHERE {\n",
    "    ?institution a edu:Institution;\n",
    "                edu:institutionCode ?code ;\n",
    "                edu:institutionName ?name ;\n",
    "                # edu:locatedInDistrict ?location ;\n",
    "                edu:hasCourse ?course .\n",
    "    \n",
    "    ?location edu:districtName ?districtName .\n",
    "\n",
    "    ?course rdf:type ?courseType;\n",
    "            edu:lastAdmittedGrade ?grade .\n",
    "            \n",
    "    ?courseType edu:courseName ?courseName ;\n",
    "                edu:courseCode ?courseCode .\n",
    "                \n",
    "            \n",
    "    FILTER(CONTAINS(LCASE(?courseName), LCASE(\"Engenharia Informática\"^^xsd:string)))\n",
    "    FILTER(LCASE(?districtName) = LCASE(\"Lisboa\"^^xsd:string))\n",
    "    FILTER(xsd:float(?grade) <= 150.0)\n",
    "  }\n",
    "\"\"\"\n",
    "\n",
    "results = g.query(query)\n",
    "print(\"List of universities:\")\n",
    "for row in results:\n",
    "    print(f\"{row.code} | {row.name} | {row.courseName} | {row.grade}\")"
   ]
  },
  {
   "cell_type": "markdown",
   "id": "98c9c25e",
   "metadata": {},
   "source": [
    "This SPARQL query targets a specific educational institution to extract detailed course information filtered by scientific area and academic performance. It focuses on the institution _Escola Superior Náutica Infante D. Henrique_ and retrieves all courses where the scientific area is _Eletricidade e energia_ and the grade of the last admitted student does not exceed 150.\n",
    "\n",
    "The query traverses multiple relationships: from the institution to its courses, and then to their types, awarded degrees, and scientific areas. The output includes the institution name, course name, last admitted grade, scientific area, and the corresponding degree.\n",
    "\n",
    "This query structure illustrates the power of semantic data modeling, enabling fine-grained, multi-criteria filtering over interconnected educational data."
   ]
  },
  {
   "cell_type": "code",
   "execution_count": 69,
   "id": "0edfab14",
   "metadata": {},
   "outputs": [
    {
     "name": "stdout",
     "output_type": "stream",
     "text": [
      "List of universities:\n",
      "Escola Superior Náutica Infante D. Henrique | Engenharia Eletrotécnica Marítima | 131.6 | Eletricidade e energia | Licenciatura - 1º ciclo\n"
     ]
    }
   ],
   "source": [
    "query = \"\"\"\n",
    "    PREFIX rdf: <http://www.w3.org/1999/02/22-rdf-syntax-ns#>\n",
    "    PREFIX xsd: <http://www.w3.org/2001/XMLSchema#>\n",
    "    PREFIX edu: <http://example.org/education#>\n",
    "\n",
    "    SELECT DISTINCT ?institutionName ?courseName ?grade ?scientificArea ?degree\n",
    "    WHERE {\n",
    "            ?institution a edu:Institution;\n",
    "                edu:institutionName ?institutionName ;\n",
    "                edu:hasCourse ?course .\n",
    "\n",
    "            ?course edu:lastAdmittedGrade ?grade ;\n",
    "            \t\trdf:type ?courseType .\n",
    "\n",
    "            ?courseType edu:courseName ?courseName ;\n",
    "            \t\t\tedu:awardsDegree ?degree_type ;\n",
    "                \t\tedu:hasScientificArea ?sa .\n",
    "\n",
    "            ?degree_type edu:degreeName ?degree .\n",
    "\n",
    "            ?sa edu:scientificAreaName ?scientificArea .\n",
    "            \n",
    "        FILTER(?institutionName = \"Escola Superior Náutica Infante D. Henrique\"^^xsd:string)\n",
    "        FILTER(xsd:float(?grade) <= 150)\n",
    "        FILTER(?scientificArea = \"Eletricidade e energia\"^^xsd:string)\n",
    "    }\n",
    "\"\"\"\n",
    "\n",
    "results = g.query(query)\n",
    "print(\"List of universities:\")\n",
    "for row in results:\n",
    "    print(f\"{row.institutionName} | {row.courseName} | {row.grade} | {row.scientificArea} | {row.degree}\")"
   ]
  },
  {
   "cell_type": "markdown",
   "id": "c0482004",
   "metadata": {},
   "source": [
    "## App"
   ]
  },
  {
   "cell_type": "markdown",
   "id": "4d6516d2",
   "metadata": {},
   "source": [
    "How to run the app from a python script"
   ]
  },
  {
   "cell_type": "markdown",
   "id": "09b8c7ee",
   "metadata": {},
   "source": [
    "To make the RDF knowledge graph accessible via a user-friendly interface, a web application was developed. This application is built using JavaScript, with an Express backend and a React frontend.\n",
    "\n",
    "The RDF graph, previously generated and serialized in Turtle format, is now hosted and served through a GraphDB instance, accessible at the following [endpoint](http://kg-project.fly.dev/repositories/kg_education).\n",
    "\n",
    "The backend Express server is responsible for handling HTTP requests from the React frontend, constructing and sending SPARQL queries to the GraphDB endpoint, and returning the parsed results in JSON format.\n",
    "\n",
    "The frontend allows users to interact with the knowledge graph through a graphical interface. Users can perform SPARQL queries without needing to understand the underlying syntax. Currently, the application supports the following two queries. Course search by university and/or scientific area, with an optional filter by admission grade; and institution search based on the desired course, with filters for district and admission grade."
   ]
  },
  {
   "cell_type": "markdown",
   "id": "78e50a73",
   "metadata": {},
   "source": [
    "To run the application locally, it is necessary to have Node.js installed, along with the following dependencies:\n",
    "* [express](https://www.npmjs.com/package/express)\n",
    "* [cors](https://www.npmjs.com/package/cors)\n",
    "* [axios](https://www.npmjs.com/package/axios)\n",
    "* [npm-run-all](https://www.npmjs.com/package/npm-run-all)\n",
    "* [react-scripts](https://www.npmjs.com/package/react-scripts)\n",
    "* [web-vitals](https://www.npmjs.com/package/web-vitals)\n",
    "\n",
    "These can be installed by running the following line:"
   ]
  },
  {
   "cell_type": "code",
   "execution_count": 4,
   "id": "660a5223",
   "metadata": {},
   "outputs": [
    {
     "data": {
      "text/plain": [
       "CompletedProcess(args=['npm', 'install'], returncode=0)"
      ]
     },
     "execution_count": 4,
     "metadata": {},
     "output_type": "execute_result"
    }
   ],
   "source": [
    "import platform\n",
    "import subprocess\n",
    "\n",
    "is_windows = platform.system() == 'Windows'\n",
    "subprocess.run([\"npm\", \"install\"], cwd=\"app\", shell=is_windows) "
   ]
  },
  {
   "cell_type": "markdown",
   "id": "a33a80f6",
   "metadata": {},
   "source": [
    "Once the dependencies are installed, the app can be started. This command launches both the backend and frontend servers concurrently, enabling real-time interaction with the knowledge graph. The frontend is available at this [link](http://localhost:3000/)."
   ]
  },
  {
   "cell_type": "code",
   "execution_count": null,
   "id": "280aaacd",
   "metadata": {},
   "outputs": [],
   "source": [
    "import platform\n",
    "import subprocess\n",
    "\n",
    "is_windows = platform.system() == 'Windows'\n",
    "subprocess.run([\"npm\", \"start\"], cwd=\"app\", shell=is_windows) "
   ]
  }
 ],
 "metadata": {
  "kernelspec": {
   "display_name": "venv",
   "language": "python",
   "name": "python3"
  },
  "language_info": {
   "codemirror_mode": {
    "name": "ipython",
    "version": 3
   },
   "file_extension": ".py",
   "mimetype": "text/x-python",
   "name": "python",
   "nbconvert_exporter": "python",
   "pygments_lexer": "ipython3",
   "version": "3.12.2"
  }
 },
 "nbformat": 4,
 "nbformat_minor": 5
}
